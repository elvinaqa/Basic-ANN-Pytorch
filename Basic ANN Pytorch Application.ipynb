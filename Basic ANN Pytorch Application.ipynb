{
 "cells": [
  {
   "cell_type": "code",
   "execution_count": 37,
   "metadata": {},
   "outputs": [],
   "source": [
    "import torch\n",
    "import numpy as np\n",
    "import pandas as pd\n",
    "import matplotlib.pyplot as plt"
   ]
  },
  {
   "cell_type": "code",
   "execution_count": 2,
   "metadata": {},
   "outputs": [],
   "source": [
    "df = pd.read_csv('iris.csv')"
   ]
  },
  {
   "cell_type": "code",
   "execution_count": 3,
   "metadata": {},
   "outputs": [
    {
     "data": {
      "text/html": [
       "<div>\n",
       "<style scoped>\n",
       "    .dataframe tbody tr th:only-of-type {\n",
       "        vertical-align: middle;\n",
       "    }\n",
       "\n",
       "    .dataframe tbody tr th {\n",
       "        vertical-align: top;\n",
       "    }\n",
       "\n",
       "    .dataframe thead th {\n",
       "        text-align: right;\n",
       "    }\n",
       "</style>\n",
       "<table border=\"1\" class=\"dataframe\">\n",
       "  <thead>\n",
       "    <tr style=\"text-align: right;\">\n",
       "      <th></th>\n",
       "      <th>sepal_length</th>\n",
       "      <th>sepal_width</th>\n",
       "      <th>petal_length</th>\n",
       "      <th>petal_width</th>\n",
       "      <th>target</th>\n",
       "    </tr>\n",
       "  </thead>\n",
       "  <tbody>\n",
       "    <tr>\n",
       "      <th>0</th>\n",
       "      <td>5.1</td>\n",
       "      <td>3.5</td>\n",
       "      <td>1.4</td>\n",
       "      <td>0.2</td>\n",
       "      <td>0</td>\n",
       "    </tr>\n",
       "    <tr>\n",
       "      <th>1</th>\n",
       "      <td>4.9</td>\n",
       "      <td>3.0</td>\n",
       "      <td>1.4</td>\n",
       "      <td>0.2</td>\n",
       "      <td>0</td>\n",
       "    </tr>\n",
       "    <tr>\n",
       "      <th>2</th>\n",
       "      <td>4.7</td>\n",
       "      <td>3.2</td>\n",
       "      <td>1.3</td>\n",
       "      <td>0.2</td>\n",
       "      <td>0</td>\n",
       "    </tr>\n",
       "    <tr>\n",
       "      <th>3</th>\n",
       "      <td>4.6</td>\n",
       "      <td>3.1</td>\n",
       "      <td>1.5</td>\n",
       "      <td>0.2</td>\n",
       "      <td>0</td>\n",
       "    </tr>\n",
       "    <tr>\n",
       "      <th>4</th>\n",
       "      <td>5.0</td>\n",
       "      <td>3.6</td>\n",
       "      <td>1.4</td>\n",
       "      <td>0.2</td>\n",
       "      <td>0</td>\n",
       "    </tr>\n",
       "    <tr>\n",
       "      <th>...</th>\n",
       "      <td>...</td>\n",
       "      <td>...</td>\n",
       "      <td>...</td>\n",
       "      <td>...</td>\n",
       "      <td>...</td>\n",
       "    </tr>\n",
       "    <tr>\n",
       "      <th>145</th>\n",
       "      <td>6.7</td>\n",
       "      <td>3.0</td>\n",
       "      <td>5.2</td>\n",
       "      <td>2.3</td>\n",
       "      <td>2</td>\n",
       "    </tr>\n",
       "    <tr>\n",
       "      <th>146</th>\n",
       "      <td>6.3</td>\n",
       "      <td>2.5</td>\n",
       "      <td>5.0</td>\n",
       "      <td>1.9</td>\n",
       "      <td>2</td>\n",
       "    </tr>\n",
       "    <tr>\n",
       "      <th>147</th>\n",
       "      <td>6.5</td>\n",
       "      <td>3.0</td>\n",
       "      <td>5.2</td>\n",
       "      <td>2.0</td>\n",
       "      <td>2</td>\n",
       "    </tr>\n",
       "    <tr>\n",
       "      <th>148</th>\n",
       "      <td>6.2</td>\n",
       "      <td>3.4</td>\n",
       "      <td>5.4</td>\n",
       "      <td>2.3</td>\n",
       "      <td>2</td>\n",
       "    </tr>\n",
       "    <tr>\n",
       "      <th>149</th>\n",
       "      <td>5.9</td>\n",
       "      <td>3.0</td>\n",
       "      <td>5.1</td>\n",
       "      <td>1.8</td>\n",
       "      <td>2</td>\n",
       "    </tr>\n",
       "  </tbody>\n",
       "</table>\n",
       "<p>150 rows × 5 columns</p>\n",
       "</div>"
      ],
      "text/plain": [
       "     sepal_length  sepal_width  petal_length  petal_width  target\n",
       "0             5.1          3.5           1.4          0.2       0\n",
       "1             4.9          3.0           1.4          0.2       0\n",
       "2             4.7          3.2           1.3          0.2       0\n",
       "3             4.6          3.1           1.5          0.2       0\n",
       "4             5.0          3.6           1.4          0.2       0\n",
       "..            ...          ...           ...          ...     ...\n",
       "145           6.7          3.0           5.2          2.3       2\n",
       "146           6.3          2.5           5.0          1.9       2\n",
       "147           6.5          3.0           5.2          2.0       2\n",
       "148           6.2          3.4           5.4          2.3       2\n",
       "149           5.9          3.0           5.1          1.8       2\n",
       "\n",
       "[150 rows x 5 columns]"
      ]
     },
     "execution_count": 3,
     "metadata": {},
     "output_type": "execute_result"
    }
   ],
   "source": [
    "df"
   ]
  },
  {
   "cell_type": "code",
   "execution_count": 4,
   "metadata": {},
   "outputs": [
    {
     "data": {
      "text/plain": [
       "(150, 5)"
      ]
     },
     "execution_count": 4,
     "metadata": {},
     "output_type": "execute_result"
    }
   ],
   "source": [
    "df.shape"
   ]
  },
  {
   "cell_type": "code",
   "execution_count": 5,
   "metadata": {},
   "outputs": [],
   "source": [
    "from sklearn.model_selection import train_test_split\n",
    "# from sklearn.preprocessing import LabelEncoder"
   ]
  },
  {
   "cell_type": "code",
   "execution_count": 6,
   "metadata": {},
   "outputs": [],
   "source": [
    "# le = LabelEncoder()"
   ]
  },
  {
   "cell_type": "code",
   "execution_count": 7,
   "metadata": {},
   "outputs": [],
   "source": [
    "# label = le.fit_transform(label)"
   ]
  },
  {
   "cell_type": "code",
   "execution_count": null,
   "metadata": {},
   "outputs": [],
   "source": []
  },
  {
   "cell_type": "code",
   "execution_count": 9,
   "metadata": {},
   "outputs": [],
   "source": [
    "feature = df.drop('target', axis=1).values\n",
    "label = df['target'].values"
   ]
  },
  {
   "cell_type": "code",
   "execution_count": 10,
   "metadata": {},
   "outputs": [
    {
     "data": {
      "text/plain": [
       "array([0, 0, 0, 0, 0, 0, 0, 0, 0, 0, 0, 0, 0, 0, 0, 0, 0, 0, 0, 0, 0, 0,\n",
       "       0, 0, 0, 0, 0, 0, 0, 0, 0, 0, 0, 0, 0, 0, 0, 0, 0, 0, 0, 0, 0, 0,\n",
       "       0, 0, 0, 0, 0, 0, 1, 1, 1, 1, 1, 1, 1, 1, 1, 1, 1, 1, 1, 1, 1, 1,\n",
       "       1, 1, 1, 1, 1, 1, 1, 1, 1, 1, 1, 1, 1, 1, 1, 1, 1, 1, 1, 1, 1, 1,\n",
       "       1, 1, 1, 1, 1, 1, 1, 1, 1, 1, 1, 1, 2, 2, 2, 2, 2, 2, 2, 2, 2, 2,\n",
       "       2, 2, 2, 2, 2, 2, 2, 2, 2, 2, 2, 2, 2, 2, 2, 2, 2, 2, 2, 2, 2, 2,\n",
       "       2, 2, 2, 2, 2, 2, 2, 2, 2, 2, 2, 2, 2, 2, 2, 2, 2, 2], dtype=int64)"
      ]
     },
     "execution_count": 10,
     "metadata": {},
     "output_type": "execute_result"
    }
   ],
   "source": [
    "label"
   ]
  },
  {
   "cell_type": "code",
   "execution_count": 11,
   "metadata": {},
   "outputs": [],
   "source": [
    "X_train, X_test, y_train, y_test = train_test_split(feature, label, test_size=0.2, random_state=33)"
   ]
  },
  {
   "cell_type": "code",
   "execution_count": 19,
   "metadata": {},
   "outputs": [],
   "source": [
    "# convert to tensors"
   ]
  },
  {
   "cell_type": "code",
   "execution_count": 12,
   "metadata": {},
   "outputs": [],
   "source": [
    "X_train = torch.FloatTensor(X_train)\n",
    "X_test = torch.FloatTensor(X_test)"
   ]
  },
  {
   "cell_type": "code",
   "execution_count": 13,
   "metadata": {},
   "outputs": [],
   "source": [
    "y_train = torch.LongTensor(y_train).reshape(-1, 1)\n",
    "y_test = torch.LongTensor(y_test).reshape(-1, 1)"
   ]
  },
  {
   "cell_type": "code",
   "execution_count": null,
   "metadata": {},
   "outputs": [],
   "source": []
  },
  {
   "cell_type": "code",
   "execution_count": 14,
   "metadata": {},
   "outputs": [],
   "source": [
    "# Second way\n",
    "from torch.utils.data import TensorDataset, DataLoader"
   ]
  },
  {
   "cell_type": "code",
   "execution_count": 15,
   "metadata": {},
   "outputs": [],
   "source": [
    "data = df.drop('target', axis=1).values"
   ]
  },
  {
   "cell_type": "raw",
   "metadata": {},
   "source": []
  },
  {
   "cell_type": "code",
   "execution_count": 16,
   "metadata": {},
   "outputs": [],
   "source": [
    "# for train_test_split\n",
    "iris = TensorDataset(torch.FloatTensor(data), torch.LongTensor(label))"
   ]
  },
  {
   "cell_type": "code",
   "execution_count": 17,
   "metadata": {},
   "outputs": [
    {
     "data": {
      "text/plain": [
       "150"
      ]
     },
     "execution_count": 17,
     "metadata": {},
     "output_type": "execute_result"
    }
   ],
   "source": [
    "len(iris)"
   ]
  },
  {
   "cell_type": "code",
   "execution_count": 52,
   "metadata": {},
   "outputs": [],
   "source": [
    "# for i in iris:\n",
    "#     print(i)"
   ]
  },
  {
   "cell_type": "code",
   "execution_count": 53,
   "metadata": {},
   "outputs": [],
   "source": [
    "# Dataloader for shuffling"
   ]
  },
  {
   "cell_type": "code",
   "execution_count": 18,
   "metadata": {},
   "outputs": [],
   "source": [
    "iris_loader = DataLoader(iris, batch_size=50, shuffle=True)\n",
    "# gonna make 3 batches\n",
    "# 150/3 = 50"
   ]
  },
  {
   "cell_type": "code",
   "execution_count": 19,
   "metadata": {},
   "outputs": [
    {
     "data": {
      "text/plain": [
       "<torch.utils.data.dataloader.DataLoader at 0x1ff42dec608>"
      ]
     },
     "execution_count": 19,
     "metadata": {},
     "output_type": "execute_result"
    }
   ],
   "source": [
    "iris_loader"
   ]
  },
  {
   "cell_type": "code",
   "execution_count": 20,
   "metadata": {},
   "outputs": [
    {
     "name": "stdout",
     "output_type": "stream",
     "text": [
      "0 [tensor([[4.8000, 3.0000, 1.4000, 0.1000],\n",
      "        [5.7000, 3.0000, 4.2000, 1.2000],\n",
      "        [6.5000, 3.0000, 5.5000, 1.8000],\n",
      "        [5.1000, 3.8000, 1.9000, 0.4000],\n",
      "        [4.4000, 3.2000, 1.3000, 0.2000],\n",
      "        [6.3000, 2.3000, 4.4000, 1.3000],\n",
      "        [5.8000, 4.0000, 1.2000, 0.2000],\n",
      "        [5.5000, 2.3000, 4.0000, 1.3000],\n",
      "        [5.9000, 3.0000, 5.1000, 1.8000],\n",
      "        [6.7000, 3.0000, 5.2000, 2.3000],\n",
      "        [4.8000, 3.1000, 1.6000, 0.2000],\n",
      "        [6.1000, 3.0000, 4.9000, 1.8000],\n",
      "        [5.5000, 2.4000, 3.7000, 1.0000],\n",
      "        [6.3000, 2.5000, 4.9000, 1.5000],\n",
      "        [6.4000, 2.8000, 5.6000, 2.2000],\n",
      "        [5.2000, 4.1000, 1.5000, 0.1000],\n",
      "        [7.7000, 2.6000, 6.9000, 2.3000],\n",
      "        [5.0000, 3.5000, 1.3000, 0.3000],\n",
      "        [4.5000, 2.3000, 1.3000, 0.3000],\n",
      "        [4.9000, 2.4000, 3.3000, 1.0000],\n",
      "        [5.4000, 3.4000, 1.5000, 0.4000],\n",
      "        [5.8000, 2.7000, 4.1000, 1.0000],\n",
      "        [6.7000, 3.3000, 5.7000, 2.1000],\n",
      "        [6.0000, 2.7000, 5.1000, 1.6000],\n",
      "        [6.0000, 3.4000, 4.5000, 1.6000],\n",
      "        [5.7000, 2.9000, 4.2000, 1.3000],\n",
      "        [6.6000, 2.9000, 4.6000, 1.3000],\n",
      "        [7.2000, 3.2000, 6.0000, 1.8000],\n",
      "        [7.7000, 3.8000, 6.7000, 2.2000],\n",
      "        [6.7000, 3.1000, 4.4000, 1.4000],\n",
      "        [7.1000, 3.0000, 5.9000, 2.1000],\n",
      "        [5.4000, 3.4000, 1.7000, 0.2000],\n",
      "        [5.8000, 2.7000, 5.1000, 1.9000],\n",
      "        [6.2000, 2.8000, 4.8000, 1.8000],\n",
      "        [6.5000, 3.0000, 5.8000, 2.2000],\n",
      "        [5.7000, 2.6000, 3.5000, 1.0000],\n",
      "        [6.9000, 3.1000, 5.4000, 2.1000],\n",
      "        [5.1000, 3.8000, 1.5000, 0.3000],\n",
      "        [5.0000, 3.6000, 1.4000, 0.2000],\n",
      "        [5.5000, 2.4000, 3.8000, 1.1000],\n",
      "        [5.4000, 3.9000, 1.3000, 0.4000],\n",
      "        [5.7000, 2.8000, 4.5000, 1.3000],\n",
      "        [4.3000, 3.0000, 1.1000, 0.1000],\n",
      "        [6.9000, 3.1000, 5.1000, 2.3000],\n",
      "        [6.1000, 2.6000, 5.6000, 1.4000],\n",
      "        [7.9000, 3.8000, 6.4000, 2.0000],\n",
      "        [5.5000, 4.2000, 1.4000, 0.2000],\n",
      "        [6.4000, 2.9000, 4.3000, 1.3000],\n",
      "        [5.0000, 3.3000, 1.4000, 0.2000],\n",
      "        [6.3000, 3.3000, 4.7000, 1.6000]]), tensor([0, 1, 2, 0, 0, 1, 0, 1, 2, 2, 0, 2, 1, 1, 2, 0, 2, 0, 0, 1, 0, 1, 2, 1,\n",
      "        1, 1, 1, 2, 2, 1, 2, 0, 2, 2, 2, 1, 2, 0, 0, 1, 0, 1, 0, 2, 2, 2, 0, 1,\n",
      "        0, 1])]\n",
      "1 [tensor([[5.4000, 3.9000, 1.7000, 0.4000],\n",
      "        [5.4000, 3.0000, 4.5000, 1.5000],\n",
      "        [7.7000, 3.0000, 6.1000, 2.3000],\n",
      "        [6.8000, 2.8000, 4.8000, 1.4000],\n",
      "        [7.2000, 3.6000, 6.1000, 2.5000],\n",
      "        [6.5000, 3.2000, 5.1000, 2.0000],\n",
      "        [5.0000, 2.3000, 3.3000, 1.0000],\n",
      "        [5.7000, 4.4000, 1.5000, 0.4000],\n",
      "        [6.0000, 3.0000, 4.8000, 1.8000],\n",
      "        [6.8000, 3.2000, 5.9000, 2.3000],\n",
      "        [6.4000, 2.7000, 5.3000, 1.9000],\n",
      "        [5.8000, 2.7000, 3.9000, 1.2000],\n",
      "        [5.8000, 2.8000, 5.1000, 2.4000],\n",
      "        [5.1000, 2.5000, 3.0000, 1.1000],\n",
      "        [4.7000, 3.2000, 1.6000, 0.2000],\n",
      "        [7.2000, 3.0000, 5.8000, 1.6000],\n",
      "        [4.6000, 3.6000, 1.0000, 0.2000],\n",
      "        [6.3000, 2.5000, 5.0000, 1.9000],\n",
      "        [5.1000, 3.4000, 1.5000, 0.2000],\n",
      "        [5.9000, 3.0000, 4.2000, 1.5000],\n",
      "        [5.2000, 3.5000, 1.5000, 0.2000],\n",
      "        [5.1000, 3.5000, 1.4000, 0.2000],\n",
      "        [6.5000, 2.8000, 4.6000, 1.5000],\n",
      "        [6.3000, 3.4000, 5.6000, 2.4000],\n",
      "        [6.9000, 3.1000, 4.9000, 1.5000],\n",
      "        [6.1000, 2.9000, 4.7000, 1.4000],\n",
      "        [5.0000, 3.2000, 1.2000, 0.2000],\n",
      "        [6.1000, 2.8000, 4.7000, 1.2000],\n",
      "        [6.8000, 3.0000, 5.5000, 2.1000],\n",
      "        [5.4000, 3.7000, 1.5000, 0.2000],\n",
      "        [6.7000, 2.5000, 5.8000, 1.8000],\n",
      "        [5.1000, 3.7000, 1.5000, 0.4000],\n",
      "        [6.9000, 3.2000, 5.7000, 2.3000],\n",
      "        [5.8000, 2.6000, 4.0000, 1.2000],\n",
      "        [7.6000, 3.0000, 6.6000, 2.1000],\n",
      "        [5.6000, 2.7000, 4.2000, 1.3000],\n",
      "        [6.3000, 2.9000, 5.6000, 1.8000],\n",
      "        [4.9000, 3.1000, 1.5000, 0.1000],\n",
      "        [4.8000, 3.4000, 1.9000, 0.2000],\n",
      "        [4.9000, 2.5000, 4.5000, 1.7000],\n",
      "        [5.0000, 2.0000, 3.5000, 1.0000],\n",
      "        [5.7000, 2.8000, 4.1000, 1.3000],\n",
      "        [6.1000, 3.0000, 4.6000, 1.4000],\n",
      "        [5.3000, 3.7000, 1.5000, 0.2000],\n",
      "        [7.7000, 2.8000, 6.7000, 2.0000],\n",
      "        [5.6000, 2.5000, 3.9000, 1.1000],\n",
      "        [6.2000, 2.2000, 4.5000, 1.5000],\n",
      "        [5.6000, 2.8000, 4.9000, 2.0000],\n",
      "        [6.0000, 2.2000, 4.0000, 1.0000],\n",
      "        [6.5000, 3.0000, 5.2000, 2.0000]]), tensor([0, 1, 2, 1, 2, 2, 1, 0, 2, 2, 2, 1, 2, 1, 0, 2, 0, 2, 0, 1, 0, 0, 1, 2,\n",
      "        1, 1, 0, 1, 2, 0, 2, 0, 2, 1, 2, 1, 2, 0, 0, 2, 1, 1, 1, 0, 2, 1, 1, 2,\n",
      "        1, 2])]\n",
      "2 [tensor([[5.9000, 3.2000, 4.8000, 1.8000],\n",
      "        [6.3000, 2.7000, 4.9000, 1.8000],\n",
      "        [7.0000, 3.2000, 4.7000, 1.4000],\n",
      "        [6.4000, 3.2000, 5.3000, 2.3000],\n",
      "        [5.6000, 2.9000, 3.6000, 1.3000],\n",
      "        [5.2000, 2.7000, 3.9000, 1.4000],\n",
      "        [6.0000, 2.2000, 5.0000, 1.5000],\n",
      "        [5.7000, 2.5000, 5.0000, 2.0000],\n",
      "        [5.0000, 3.5000, 1.6000, 0.6000],\n",
      "        [6.4000, 3.1000, 5.5000, 1.8000],\n",
      "        [4.9000, 3.1000, 1.5000, 0.1000],\n",
      "        [6.3000, 3.3000, 6.0000, 2.5000],\n",
      "        [4.4000, 3.0000, 1.3000, 0.2000],\n",
      "        [6.7000, 3.1000, 4.7000, 1.5000],\n",
      "        [5.1000, 3.8000, 1.6000, 0.2000],\n",
      "        [5.5000, 2.5000, 4.0000, 1.3000],\n",
      "        [5.0000, 3.4000, 1.5000, 0.2000],\n",
      "        [6.4000, 2.8000, 5.6000, 2.1000],\n",
      "        [6.7000, 3.0000, 5.0000, 1.7000],\n",
      "        [4.6000, 3.2000, 1.4000, 0.2000],\n",
      "        [4.7000, 3.2000, 1.3000, 0.2000],\n",
      "        [5.6000, 3.0000, 4.1000, 1.3000],\n",
      "        [6.3000, 2.8000, 5.1000, 1.5000],\n",
      "        [7.4000, 2.8000, 6.1000, 1.9000],\n",
      "        [6.7000, 3.3000, 5.7000, 2.5000],\n",
      "        [5.0000, 3.0000, 1.6000, 0.2000],\n",
      "        [5.6000, 3.0000, 4.5000, 1.5000],\n",
      "        [4.8000, 3.4000, 1.6000, 0.2000],\n",
      "        [6.2000, 3.4000, 5.4000, 2.3000],\n",
      "        [7.3000, 2.9000, 6.3000, 1.8000],\n",
      "        [6.4000, 3.2000, 4.5000, 1.5000],\n",
      "        [4.9000, 3.0000, 1.4000, 0.2000],\n",
      "        [5.5000, 2.6000, 4.4000, 1.2000],\n",
      "        [6.1000, 2.8000, 4.0000, 1.3000],\n",
      "        [5.1000, 3.3000, 1.7000, 0.5000],\n",
      "        [4.6000, 3.4000, 1.4000, 0.3000],\n",
      "        [5.8000, 2.7000, 5.1000, 1.9000],\n",
      "        [4.9000, 3.1000, 1.5000, 0.1000],\n",
      "        [6.6000, 3.0000, 4.4000, 1.4000],\n",
      "        [5.7000, 3.8000, 1.7000, 0.3000],\n",
      "        [6.0000, 2.9000, 4.5000, 1.5000],\n",
      "        [4.8000, 3.0000, 1.4000, 0.3000],\n",
      "        [6.7000, 3.1000, 5.6000, 2.4000],\n",
      "        [5.0000, 3.4000, 1.6000, 0.4000],\n",
      "        [5.5000, 3.5000, 1.3000, 0.2000],\n",
      "        [4.4000, 2.9000, 1.4000, 0.2000],\n",
      "        [5.1000, 3.5000, 1.4000, 0.3000],\n",
      "        [5.2000, 3.4000, 1.4000, 0.2000],\n",
      "        [6.2000, 2.9000, 4.3000, 1.3000],\n",
      "        [4.6000, 3.1000, 1.5000, 0.2000]]), tensor([1, 2, 1, 2, 1, 1, 2, 2, 0, 2, 0, 2, 0, 1, 0, 1, 0, 2, 1, 0, 0, 1, 2, 2,\n",
      "        2, 0, 1, 0, 2, 2, 1, 0, 1, 1, 0, 0, 2, 0, 1, 0, 1, 0, 2, 0, 0, 0, 0, 0,\n",
      "        1, 0])]\n"
     ]
    }
   ],
   "source": [
    "for i_batch, smp_batch in enumerate(iris_loader):\n",
    "    print(i_batch, smp_batch)"
   ]
  },
  {
   "cell_type": "code",
   "execution_count": 21,
   "metadata": {},
   "outputs": [
    {
     "name": "stdout",
     "output_type": "stream",
     "text": [
      "[tensor([[5.8000, 2.7000, 5.1000, 1.9000],\n",
      "        [6.1000, 2.8000, 4.7000, 1.2000],\n",
      "        [5.4000, 3.7000, 1.5000, 0.2000],\n",
      "        [6.0000, 3.4000, 4.5000, 1.6000],\n",
      "        [5.2000, 4.1000, 1.5000, 0.1000],\n",
      "        [7.1000, 3.0000, 5.9000, 2.1000],\n",
      "        [7.9000, 3.8000, 6.4000, 2.0000],\n",
      "        [5.4000, 3.9000, 1.3000, 0.4000],\n",
      "        [4.5000, 2.3000, 1.3000, 0.3000],\n",
      "        [6.3000, 2.8000, 5.1000, 1.5000],\n",
      "        [6.1000, 2.8000, 4.0000, 1.3000],\n",
      "        [6.4000, 2.7000, 5.3000, 1.9000],\n",
      "        [6.9000, 3.1000, 5.1000, 2.3000],\n",
      "        [4.9000, 3.1000, 1.5000, 0.1000],\n",
      "        [5.8000, 2.6000, 4.0000, 1.2000],\n",
      "        [5.0000, 2.3000, 3.3000, 1.0000],\n",
      "        [5.0000, 3.4000, 1.5000, 0.2000],\n",
      "        [5.9000, 3.0000, 4.2000, 1.5000],\n",
      "        [5.0000, 3.4000, 1.6000, 0.4000],\n",
      "        [5.7000, 2.8000, 4.1000, 1.3000],\n",
      "        [5.7000, 3.0000, 4.2000, 1.2000],\n",
      "        [5.2000, 2.7000, 3.9000, 1.4000],\n",
      "        [5.7000, 2.9000, 4.2000, 1.3000],\n",
      "        [5.2000, 3.4000, 1.4000, 0.2000],\n",
      "        [7.2000, 3.0000, 5.8000, 1.6000],\n",
      "        [6.6000, 2.9000, 4.6000, 1.3000],\n",
      "        [5.8000, 2.8000, 5.1000, 2.4000],\n",
      "        [5.0000, 3.6000, 1.4000, 0.2000],\n",
      "        [4.9000, 2.4000, 3.3000, 1.0000],\n",
      "        [6.0000, 2.7000, 5.1000, 1.6000],\n",
      "        [5.5000, 2.6000, 4.4000, 1.2000],\n",
      "        [6.5000, 2.8000, 4.6000, 1.5000],\n",
      "        [5.6000, 3.0000, 4.1000, 1.3000],\n",
      "        [5.1000, 2.5000, 3.0000, 1.1000],\n",
      "        [6.1000, 2.6000, 5.6000, 1.4000],\n",
      "        [5.8000, 2.7000, 5.1000, 1.9000],\n",
      "        [5.4000, 3.0000, 4.5000, 1.5000],\n",
      "        [5.6000, 2.8000, 4.9000, 2.0000],\n",
      "        [5.8000, 2.7000, 3.9000, 1.2000],\n",
      "        [4.3000, 3.0000, 1.1000, 0.1000],\n",
      "        [4.8000, 3.1000, 1.6000, 0.2000],\n",
      "        [4.8000, 3.0000, 1.4000, 0.3000],\n",
      "        [6.9000, 3.1000, 4.9000, 1.5000],\n",
      "        [5.0000, 3.5000, 1.3000, 0.3000],\n",
      "        [5.8000, 4.0000, 1.2000, 0.2000],\n",
      "        [5.1000, 3.7000, 1.5000, 0.4000],\n",
      "        [5.8000, 2.7000, 4.1000, 1.0000],\n",
      "        [4.6000, 3.4000, 1.4000, 0.3000],\n",
      "        [5.1000, 3.4000, 1.5000, 0.2000],\n",
      "        [6.5000, 3.0000, 5.5000, 1.8000]]), tensor([2, 1, 0, 1, 0, 2, 2, 0, 0, 2, 1, 2, 2, 0, 1, 1, 0, 1, 0, 1, 1, 1, 1, 0,\n",
      "        2, 1, 2, 0, 1, 1, 1, 1, 1, 1, 2, 2, 1, 2, 1, 0, 0, 0, 1, 0, 0, 0, 1, 0,\n",
      "        0, 2])]\n",
      "[tensor([[6.4000, 2.8000, 5.6000, 2.1000],\n",
      "        [4.4000, 3.0000, 1.3000, 0.2000],\n",
      "        [6.5000, 3.0000, 5.8000, 2.2000],\n",
      "        [4.8000, 3.0000, 1.4000, 0.1000],\n",
      "        [6.4000, 2.9000, 4.3000, 1.3000],\n",
      "        [5.0000, 3.5000, 1.6000, 0.6000],\n",
      "        [5.6000, 2.7000, 4.2000, 1.3000],\n",
      "        [5.6000, 2.5000, 3.9000, 1.1000],\n",
      "        [5.5000, 3.5000, 1.3000, 0.2000],\n",
      "        [6.2000, 2.9000, 4.3000, 1.3000],\n",
      "        [7.2000, 3.6000, 6.1000, 2.5000],\n",
      "        [5.6000, 2.9000, 3.6000, 1.3000],\n",
      "        [6.3000, 2.9000, 5.6000, 1.8000],\n",
      "        [5.5000, 2.3000, 4.0000, 1.3000],\n",
      "        [7.6000, 3.0000, 6.6000, 2.1000],\n",
      "        [4.7000, 3.2000, 1.3000, 0.2000],\n",
      "        [6.1000, 3.0000, 4.9000, 1.8000],\n",
      "        [6.3000, 2.5000, 5.0000, 1.9000],\n",
      "        [6.5000, 3.0000, 5.2000, 2.0000],\n",
      "        [6.9000, 3.2000, 5.7000, 2.3000],\n",
      "        [4.9000, 3.1000, 1.5000, 0.1000],\n",
      "        [6.8000, 2.8000, 4.8000, 1.4000],\n",
      "        [7.3000, 2.9000, 6.3000, 1.8000],\n",
      "        [6.3000, 3.4000, 5.6000, 2.4000],\n",
      "        [6.7000, 3.0000, 5.0000, 1.7000],\n",
      "        [4.8000, 3.4000, 1.6000, 0.2000],\n",
      "        [7.2000, 3.2000, 6.0000, 1.8000],\n",
      "        [6.7000, 3.1000, 4.4000, 1.4000],\n",
      "        [6.1000, 3.0000, 4.6000, 1.4000],\n",
      "        [6.8000, 3.0000, 5.5000, 2.1000],\n",
      "        [6.0000, 3.0000, 4.8000, 1.8000],\n",
      "        [4.9000, 3.0000, 1.4000, 0.2000],\n",
      "        [6.4000, 3.2000, 4.5000, 1.5000],\n",
      "        [5.5000, 4.2000, 1.4000, 0.2000],\n",
      "        [5.0000, 3.3000, 1.4000, 0.2000],\n",
      "        [4.6000, 3.1000, 1.5000, 0.2000],\n",
      "        [6.5000, 3.2000, 5.1000, 2.0000],\n",
      "        [6.7000, 3.3000, 5.7000, 2.1000],\n",
      "        [6.2000, 3.4000, 5.4000, 2.3000],\n",
      "        [6.7000, 2.5000, 5.8000, 1.8000],\n",
      "        [5.1000, 3.8000, 1.9000, 0.4000],\n",
      "        [6.3000, 2.5000, 4.9000, 1.5000],\n",
      "        [6.6000, 3.0000, 4.4000, 1.4000],\n",
      "        [5.7000, 2.8000, 4.5000, 1.3000],\n",
      "        [6.7000, 3.1000, 5.6000, 2.4000],\n",
      "        [5.4000, 3.4000, 1.5000, 0.4000],\n",
      "        [5.1000, 3.8000, 1.6000, 0.2000],\n",
      "        [6.7000, 3.0000, 5.2000, 2.3000],\n",
      "        [4.6000, 3.2000, 1.4000, 0.2000],\n",
      "        [6.3000, 2.7000, 4.9000, 1.8000]]), tensor([2, 0, 2, 0, 1, 0, 1, 1, 0, 1, 2, 1, 2, 1, 2, 0, 2, 2, 2, 2, 0, 1, 2, 2,\n",
      "        1, 0, 2, 1, 1, 2, 2, 0, 1, 0, 0, 0, 2, 2, 2, 2, 0, 1, 1, 1, 2, 0, 0, 2,\n",
      "        0, 2])]\n",
      "[tensor([[4.8000, 3.4000, 1.9000, 0.2000],\n",
      "        [5.2000, 3.5000, 1.5000, 0.2000],\n",
      "        [7.7000, 2.6000, 6.9000, 2.3000],\n",
      "        [4.4000, 3.2000, 1.3000, 0.2000],\n",
      "        [5.5000, 2.4000, 3.7000, 1.0000],\n",
      "        [7.0000, 3.2000, 4.7000, 1.4000],\n",
      "        [6.7000, 3.1000, 4.7000, 1.5000],\n",
      "        [5.0000, 3.0000, 1.6000, 0.2000],\n",
      "        [4.4000, 2.9000, 1.4000, 0.2000],\n",
      "        [4.9000, 2.5000, 4.5000, 1.7000],\n",
      "        [4.9000, 3.1000, 1.5000, 0.1000],\n",
      "        [5.7000, 3.8000, 1.7000, 0.3000],\n",
      "        [7.7000, 2.8000, 6.7000, 2.0000],\n",
      "        [5.7000, 2.6000, 3.5000, 1.0000],\n",
      "        [7.7000, 3.0000, 6.1000, 2.3000],\n",
      "        [6.0000, 2.9000, 4.5000, 1.5000],\n",
      "        [6.3000, 3.3000, 6.0000, 2.5000],\n",
      "        [6.0000, 2.2000, 5.0000, 1.5000],\n",
      "        [5.1000, 3.5000, 1.4000, 0.2000],\n",
      "        [5.7000, 2.5000, 5.0000, 2.0000],\n",
      "        [5.5000, 2.4000, 3.8000, 1.1000],\n",
      "        [5.9000, 3.2000, 4.8000, 1.8000],\n",
      "        [6.3000, 2.3000, 4.4000, 1.3000],\n",
      "        [6.1000, 2.9000, 4.7000, 1.4000],\n",
      "        [5.1000, 3.3000, 1.7000, 0.5000],\n",
      "        [6.8000, 3.2000, 5.9000, 2.3000],\n",
      "        [5.0000, 2.0000, 3.5000, 1.0000],\n",
      "        [6.7000, 3.3000, 5.7000, 2.5000],\n",
      "        [6.4000, 2.8000, 5.6000, 2.2000],\n",
      "        [7.7000, 3.8000, 6.7000, 2.2000],\n",
      "        [4.7000, 3.2000, 1.6000, 0.2000],\n",
      "        [5.6000, 3.0000, 4.5000, 1.5000],\n",
      "        [6.2000, 2.8000, 4.8000, 1.8000],\n",
      "        [5.4000, 3.4000, 1.7000, 0.2000],\n",
      "        [6.3000, 3.3000, 4.7000, 1.6000],\n",
      "        [6.2000, 2.2000, 4.5000, 1.5000],\n",
      "        [5.5000, 2.5000, 4.0000, 1.3000],\n",
      "        [6.0000, 2.2000, 4.0000, 1.0000],\n",
      "        [6.9000, 3.1000, 5.4000, 2.1000],\n",
      "        [5.1000, 3.8000, 1.5000, 0.3000],\n",
      "        [5.9000, 3.0000, 5.1000, 1.8000],\n",
      "        [6.4000, 3.1000, 5.5000, 1.8000],\n",
      "        [5.0000, 3.2000, 1.2000, 0.2000],\n",
      "        [5.1000, 3.5000, 1.4000, 0.3000],\n",
      "        [7.4000, 2.8000, 6.1000, 1.9000],\n",
      "        [5.4000, 3.9000, 1.7000, 0.4000],\n",
      "        [6.4000, 3.2000, 5.3000, 2.3000],\n",
      "        [5.3000, 3.7000, 1.5000, 0.2000],\n",
      "        [5.7000, 4.4000, 1.5000, 0.4000],\n",
      "        [4.6000, 3.6000, 1.0000, 0.2000]]), tensor([0, 0, 2, 0, 1, 1, 1, 0, 0, 2, 0, 0, 2, 1, 2, 1, 2, 2, 0, 2, 1, 1, 1, 1,\n",
      "        0, 2, 1, 2, 2, 2, 0, 1, 2, 0, 1, 1, 1, 1, 2, 0, 2, 2, 0, 0, 2, 0, 2, 0,\n",
      "        0, 0])]\n"
     ]
    }
   ],
   "source": [
    "for i in iris_loader:\n",
    "    print(i)"
   ]
  },
  {
   "cell_type": "code",
   "execution_count": null,
   "metadata": {},
   "outputs": [],
   "source": []
  },
  {
   "cell_type": "code",
   "execution_count": null,
   "metadata": {},
   "outputs": [],
   "source": []
  },
  {
   "cell_type": "code",
   "execution_count": 22,
   "metadata": {},
   "outputs": [],
   "source": [
    "import torch\n",
    "import torch.nn as nn\n",
    "import torch.nn.functional as F"
   ]
  },
  {
   "cell_type": "code",
   "execution_count": 23,
   "metadata": {},
   "outputs": [],
   "source": [
    "# Model Class\n",
    "class Model(nn.Module):\n",
    "    def __init__(self, in_features=4, h1=8, h2=9, out_features=3):\n",
    "        # layers\n",
    "        # input(4 features) hidden(n) hidden(3) output(3 classes)\n",
    "        super().__init__()\n",
    "        self.fc1 = nn.Linear(in_features,h1)    # input layer\n",
    "        self.fc2 = nn.Linear(h1, h2)            # hidden layer\n",
    "        self.out = nn.Linear(h2, out_features)  # output layer\n",
    "        \n",
    "    def forward(self, x):\n",
    "        # forward propogation\n",
    "        x = F.relu(self.fc1(x))\n",
    "        x = F.relu(self.fc2(x))\n",
    "        x = self.out(x)\n",
    "        return x"
   ]
  },
  {
   "cell_type": "code",
   "execution_count": 24,
   "metadata": {},
   "outputs": [],
   "source": [
    "# Instantiate model\n",
    "torch.manual_seed(32) #prevent weight and bias randomization \n",
    "model = Model()"
   ]
  },
  {
   "cell_type": "code",
   "execution_count": 25,
   "metadata": {},
   "outputs": [],
   "source": [
    "# loss (error)\n",
    "# crossentropy for multiclass classification problem\n",
    "criterion = nn.CrossEntropyLoss()\n",
    "\n",
    "# feeding model layers and learning rate to optimizer\n",
    "optimizer = torch.optim.Adam(model.parameters(),lr=0.01)"
   ]
  },
  {
   "cell_type": "code",
   "execution_count": 26,
   "metadata": {},
   "outputs": [],
   "source": [
    "X = df.drop('target',axis=1).values\n",
    "y = df['target'].values"
   ]
  },
  {
   "cell_type": "code",
   "execution_count": 27,
   "metadata": {},
   "outputs": [],
   "source": [
    "X_train, X_test, y_train, y_test = train_test_split(X,y,test_size=0.2,random_state=33)\n",
    "\n",
    "X_train = torch.FloatTensor(X_train)\n",
    "X_test = torch.FloatTensor(X_test)\n",
    "\n",
    "y_train = torch.LongTensor(y_train)\n",
    "y_test = torch.LongTensor(y_test)"
   ]
  },
  {
   "cell_type": "code",
   "execution_count": 28,
   "metadata": {},
   "outputs": [],
   "source": [
    "trainloader = DataLoader(X_train, batch_size=60, shuffle=True)\n",
    "testloader = DataLoader(X_test, batch_size=60, shuffle=False)"
   ]
  },
  {
   "cell_type": "code",
   "execution_count": 29,
   "metadata": {},
   "outputs": [
    {
     "data": {
      "text/plain": [
       "<bound method Module.parameters of Model(\n",
       "  (fc1): Linear(in_features=4, out_features=8, bias=True)\n",
       "  (fc2): Linear(in_features=8, out_features=9, bias=True)\n",
       "  (out): Linear(in_features=9, out_features=3, bias=True)\n",
       ")>"
      ]
     },
     "execution_count": 29,
     "metadata": {},
     "output_type": "execute_result"
    }
   ],
   "source": [
    "model.parameters"
   ]
  },
  {
   "cell_type": "code",
   "execution_count": null,
   "metadata": {},
   "outputs": [],
   "source": []
  },
  {
   "cell_type": "code",
   "execution_count": 30,
   "metadata": {},
   "outputs": [],
   "source": [
    "epochs = 100\n",
    "losses = []"
   ]
  },
  {
   "cell_type": "code",
   "execution_count": null,
   "metadata": {},
   "outputs": [],
   "source": []
  },
  {
   "cell_type": "code",
   "execution_count": 31,
   "metadata": {},
   "outputs": [
    {
     "name": "stdout",
     "output_type": "stream",
     "text": [
      "epoch:  1  loss: 1.15071154\n",
      "epoch: 11  loss: 0.93773156\n",
      "epoch: 21  loss: 0.77982575\n",
      "epoch: 31  loss: 0.60994011\n",
      "epoch: 41  loss: 0.40079927\n",
      "epoch: 51  loss: 0.25436318\n",
      "epoch: 61  loss: 0.15053058\n",
      "epoch: 71  loss: 0.10086945\n",
      "epoch: 81  loss: 0.08128312\n",
      "epoch: 91  loss: 0.07231427\n"
     ]
    }
   ],
   "source": [
    "epochs = 100\n",
    "losses = []\n",
    "\n",
    "for i in range(epochs):\n",
    "    i+=1\n",
    "    y_pred = model.forward(X_train)\n",
    "    loss = criterion(y_pred, y_train)\n",
    "    losses.append(loss)\n",
    "    \n",
    "    # a neat trick to save screen space:\n",
    "    if i%10 == 1:\n",
    "        print(f'epoch: {i:2}  loss: {loss.item():10.8f}')\n",
    "\n",
    "    optimizer.zero_grad()\n",
    "    loss.backward()\n",
    "    optimizer.step()"
   ]
  },
  {
   "cell_type": "code",
   "execution_count": 38,
   "metadata": {},
   "outputs": [
    {
     "data": {
      "text/plain": [
       "Text(0.5, 0, 'epoch')"
      ]
     },
     "execution_count": 38,
     "metadata": {},
     "output_type": "execute_result"
    },
    {
     "data": {
      "image/png": "[encoded data removed]",
      "text/plain": [
       "<Figure size 432x288 with 1 Axes>"
      ]
     },
     "metadata": {
      "needs_background": "light"
     },
     "output_type": "display_data"
    }
   ],
   "source": [
    "plt.plot(range(epochs), losses)\n",
    "plt.ylabel('Loss')\n",
    "plt.xlabel('epoch')"
   ]
  },
  {
   "cell_type": "code",
   "execution_count": 39,
   "metadata": {},
   "outputs": [],
   "source": [
    "# validate the model in test set"
   ]
  },
  {
   "cell_type": "code",
   "execution_count": 40,
   "metadata": {},
   "outputs": [],
   "source": [
    "with torch.no_grad():\n",
    "    # telling pytorch to not train on test (dont change gradients(weights and bias) based on test, we are just testing now)\n",
    "    # reduced memory usage, speeded up computation - it is evaluation, not backpropogation\n",
    "    y_eval = model.forward(X_test)\n",
    "    loss = criterion(y_eval, y_test)"
   ]
  },
  {
   "cell_type": "code",
   "execution_count": 42,
   "metadata": {},
   "outputs": [
    {
     "data": {
      "text/plain": [
       "tensor(0.0581)"
      ]
     },
     "execution_count": 42,
     "metadata": {},
     "output_type": "execute_result"
    }
   ],
   "source": [
    "loss\n",
    "# good performance - not overfitting"
   ]
  },
  {
   "cell_type": "code",
   "execution_count": 52,
   "metadata": {},
   "outputs": [
    {
     "name": "stdout",
     "output_type": "stream",
     "text": [
      "1.) tensor([-2.1252,  4.8064, -0.8628]) answer is 4.806390762329102 1\n",
      "2.) tensor([-1.7985,  5.3098, -1.5449]) answer is 5.309832572937012 1\n",
      "3.) tensor([  6.3542,   0.8438, -10.0541]) answer is 6.354162693023682 0\n",
      "4.) tensor([-3.9123,  4.5958,  1.1693]) answer is 4.595773696899414 1\n",
      "5.) tensor([-7.4713,  3.2021,  5.7853]) answer is 5.785310745239258 2\n",
      "6.) tensor([-10.4976,   1.6459,   9.6297]) answer is 9.629681587219238 2\n",
      "7.) tensor([  6.3201,   0.9917, -10.1532]) answer is 6.320135593414307 0\n",
      "8.) tensor([  7.0468,   0.7059, -10.9137]) answer is 7.046820163726807 0\n",
      "9.) tensor([-7.2061,  3.3477,  5.3565]) answer is 5.3564677238464355 2\n",
      "10.) tensor([-9.3960,  2.5759,  8.1033]) answer is 8.103338241577148 2\n",
      "11.) tensor([-9.8808,  2.3475,  8.7141]) answer is 8.714097023010254 2\n",
      "12.) tensor([ 6.2748,  0.6655, -9.7613]) answer is 6.274759292602539 0\n",
      "13.) tensor([-9.3142,  2.1880,  8.1947]) answer is 8.194701194763184 2\n",
      "14.) tensor([-3.7803,  4.5050,  1.0752]) answer is 4.505033493041992 1\n",
      "15.) tensor([-7.8657,  3.0117,  6.2303]) answer is 6.230347633361816 2\n",
      "16.) tensor([-1.8867,  5.1572, -1.3345]) answer is 5.157235145568848 1\n",
      "17.) tensor([-5.7006,  3.5030,  3.6696]) answer is 3.669628620147705 2\n",
      "18.) tensor([  7.1789,   0.7369, -11.1350]) answer is 7.17893123626709 0\n",
      "19.) tensor([-3.2944,  4.7931,  0.3475]) answer is 4.793066024780273 1\n",
      "20.) tensor([-7.7665,  3.7629,  5.7095]) answer is 5.709475517272949 2\n",
      "21.) tensor([  6.6499,   0.7889, -10.4252]) answer is 6.649936199188232 0\n",
      "22.) tensor([  7.4357,   0.8918, -11.6600]) answer is 7.435720920562744 0\n",
      "23.) tensor([-9.7584,  2.1744,  8.6654]) answer is 8.665382385253906 2\n",
      "24.) tensor([  6.5770,   0.7421, -10.2733]) answer is 6.577019214630127 0\n",
      "25.) tensor([-7.4144,  2.8719,  5.9445]) answer is 5.944545269012451 2\n",
      "26.) tensor([-6.1551,  3.4031,  4.2300]) answer is 4.229972839355469 2\n",
      "27.) tensor([-3.1634,  4.7460,  0.2703]) answer is 4.745988845825195 1\n",
      "28.) tensor([-1.5446,  4.9031, -1.5557]) answer is 4.903094291687012 1\n",
      "29.) tensor([-7.4335,  3.1101,  5.7350]) answer is 5.734965801239014 2\n",
      "30.) tensor([-6.7037,  3.1187,  4.9595]) answer is 4.959476947784424 2\n",
      "Correct classifications: 30\n"
     ]
    }
   ],
   "source": [
    "correct = 0\n",
    "\n",
    "with torch.no_grad():\n",
    "    for i, data in enumerate(X_test):\n",
    "        y_val = model.forward(data)\n",
    "        print(f\"{i+1}.) {y_val} answer is {y_val.max()} {y_test[i]}\")\n",
    "        \n",
    "        if y_val.argmax().item() == y_test[i]:\n",
    "            correct += 1\n",
    "print(f\"Correct classifications: {correct}\")"
   ]
  },
  {
   "cell_type": "code",
   "execution_count": 53,
   "metadata": {},
   "outputs": [],
   "source": [
    "# save the model - learnt params of model\n",
    "torch.save(model.state_dict(), 'iris_torch_model.pt')"
   ]
  },
  {
   "cell_type": "code",
   "execution_count": 54,
   "metadata": {},
   "outputs": [
    {
     "data": {
      "text/plain": [
       "<All keys matched successfully>"
      ]
     },
     "execution_count": 54,
     "metadata": {},
     "output_type": "execute_result"
    }
   ],
   "source": [
    "n_model = Model()\n",
    "n_model.load_state_dict(torch.load('iris_torch_model.pt'))"
   ]
  },
  {
   "cell_type": "code",
   "execution_count": 55,
   "metadata": {},
   "outputs": [
    {
     "data": {
      "text/plain": [
       "Model(\n",
       "  (fc1): Linear(in_features=4, out_features=8, bias=True)\n",
       "  (fc2): Linear(in_features=8, out_features=9, bias=True)\n",
       "  (out): Linear(in_features=9, out_features=3, bias=True)\n",
       ")"
      ]
     },
     "execution_count": 55,
     "metadata": {},
     "output_type": "execute_result"
    }
   ],
   "source": [
    "n_model.eval()"
   ]
  },
  {
   "cell_type": "code",
   "execution_count": 56,
   "metadata": {},
   "outputs": [],
   "source": [
    "# new unseen data"
   ]
  },
  {
   "cell_type": "code",
   "execution_count": 57,
   "metadata": {},
   "outputs": [],
   "source": [
    "n_data = torch.tensor([5.6, 3.7, 2.2, 0.5])"
   ]
  },
  {
   "cell_type": "code",
   "execution_count": 60,
   "metadata": {},
   "outputs": [
    {
     "name": "stdout",
     "output_type": "stream",
     "text": [
      "tensor([  5.9522,   1.5596, -10.0054])\n",
      "tensor(0)\n"
     ]
    }
   ],
   "source": [
    "with torch.no_grad():\n",
    "    print(n_model(n_data))\n",
    "    print(n_model(n_data).argmax())"
   ]
  },
  {
   "cell_type": "code",
   "execution_count": null,
   "metadata": {},
   "outputs": [],
   "source": [
    "# setosa"
   ]
  }
 ],
 "metadata": {
  "kernelspec": {
   "display_name": "Python 3",
   "language": "python",
   "name": "python3"
  },
  "language_info": {
   "codemirror_mode": {
    "name": "ipython",
    "version": 3
   },
   "file_extension": ".py",
   "mimetype": "text/x-python",
   "name": "python",
   "nbconvert_exporter": "python",
   "pygments_lexer": "ipython3",
   "version": "3.7.7"
  }
 },
 "nbformat": 4,
 "nbformat_minor": 4
}
