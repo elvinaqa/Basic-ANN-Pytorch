{
 "cells": [
  {
   "cell_type": "code",
   "execution_count": 89,
   "metadata": {},
   "outputs": [],
   "source": [
    "import torch\n",
    "import numpy as np\n",
    "import pandas as pd\n",
    "import matplotlib as plt"
   ]
  },
  {
   "cell_type": "code",
   "execution_count": 90,
   "metadata": {},
   "outputs": [],
   "source": [
    "df = pd.read_csv('iris.csv')"
   ]
  },
  {
   "cell_type": "code",
   "execution_count": 91,
   "metadata": {},
   "outputs": [
    {
     "data": {
      "text/html": [
       "<div>\n",
       "<style scoped>\n",
       "    .dataframe tbody tr th:only-of-type {\n",
       "        vertical-align: middle;\n",
       "    }\n",
       "\n",
       "    .dataframe tbody tr th {\n",
       "        vertical-align: top;\n",
       "    }\n",
       "\n",
       "    .dataframe thead th {\n",
       "        text-align: right;\n",
       "    }\n",
       "</style>\n",
       "<table border=\"1\" class=\"dataframe\">\n",
       "  <thead>\n",
       "    <tr style=\"text-align: right;\">\n",
       "      <th></th>\n",
       "      <th>sepal_length</th>\n",
       "      <th>sepal_width</th>\n",
       "      <th>petal_length</th>\n",
       "      <th>petal_width</th>\n",
       "      <th>target</th>\n",
       "    </tr>\n",
       "  </thead>\n",
       "  <tbody>\n",
       "    <tr>\n",
       "      <th>0</th>\n",
       "      <td>5.1</td>\n",
       "      <td>3.5</td>\n",
       "      <td>1.4</td>\n",
       "      <td>0.2</td>\n",
       "      <td>0</td>\n",
       "    </tr>\n",
       "    <tr>\n",
       "      <th>1</th>\n",
       "      <td>4.9</td>\n",
       "      <td>3.0</td>\n",
       "      <td>1.4</td>\n",
       "      <td>0.2</td>\n",
       "      <td>0</td>\n",
       "    </tr>\n",
       "    <tr>\n",
       "      <th>2</th>\n",
       "      <td>4.7</td>\n",
       "      <td>3.2</td>\n",
       "      <td>1.3</td>\n",
       "      <td>0.2</td>\n",
       "      <td>0</td>\n",
       "    </tr>\n",
       "    <tr>\n",
       "      <th>3</th>\n",
       "      <td>4.6</td>\n",
       "      <td>3.1</td>\n",
       "      <td>1.5</td>\n",
       "      <td>0.2</td>\n",
       "      <td>0</td>\n",
       "    </tr>\n",
       "    <tr>\n",
       "      <th>4</th>\n",
       "      <td>5.0</td>\n",
       "      <td>3.6</td>\n",
       "      <td>1.4</td>\n",
       "      <td>0.2</td>\n",
       "      <td>0</td>\n",
       "    </tr>\n",
       "    <tr>\n",
       "      <th>...</th>\n",
       "      <td>...</td>\n",
       "      <td>...</td>\n",
       "      <td>...</td>\n",
       "      <td>...</td>\n",
       "      <td>...</td>\n",
       "    </tr>\n",
       "    <tr>\n",
       "      <th>145</th>\n",
       "      <td>6.7</td>\n",
       "      <td>3.0</td>\n",
       "      <td>5.2</td>\n",
       "      <td>2.3</td>\n",
       "      <td>2</td>\n",
       "    </tr>\n",
       "    <tr>\n",
       "      <th>146</th>\n",
       "      <td>6.3</td>\n",
       "      <td>2.5</td>\n",
       "      <td>5.0</td>\n",
       "      <td>1.9</td>\n",
       "      <td>2</td>\n",
       "    </tr>\n",
       "    <tr>\n",
       "      <th>147</th>\n",
       "      <td>6.5</td>\n",
       "      <td>3.0</td>\n",
       "      <td>5.2</td>\n",
       "      <td>2.0</td>\n",
       "      <td>2</td>\n",
       "    </tr>\n",
       "    <tr>\n",
       "      <th>148</th>\n",
       "      <td>6.2</td>\n",
       "      <td>3.4</td>\n",
       "      <td>5.4</td>\n",
       "      <td>2.3</td>\n",
       "      <td>2</td>\n",
       "    </tr>\n",
       "    <tr>\n",
       "      <th>149</th>\n",
       "      <td>5.9</td>\n",
       "      <td>3.0</td>\n",
       "      <td>5.1</td>\n",
       "      <td>1.8</td>\n",
       "      <td>2</td>\n",
       "    </tr>\n",
       "  </tbody>\n",
       "</table>\n",
       "<p>150 rows × 5 columns</p>\n",
       "</div>"
      ],
      "text/plain": [
       "     sepal_length  sepal_width  petal_length  petal_width  target\n",
       "0             5.1          3.5           1.4          0.2       0\n",
       "1             4.9          3.0           1.4          0.2       0\n",
       "2             4.7          3.2           1.3          0.2       0\n",
       "3             4.6          3.1           1.5          0.2       0\n",
       "4             5.0          3.6           1.4          0.2       0\n",
       "..            ...          ...           ...          ...     ...\n",
       "145           6.7          3.0           5.2          2.3       2\n",
       "146           6.3          2.5           5.0          1.9       2\n",
       "147           6.5          3.0           5.2          2.0       2\n",
       "148           6.2          3.4           5.4          2.3       2\n",
       "149           5.9          3.0           5.1          1.8       2\n",
       "\n",
       "[150 rows x 5 columns]"
      ]
     },
     "execution_count": 91,
     "metadata": {},
     "output_type": "execute_result"
    }
   ],
   "source": [
    "df"
   ]
  },
  {
   "cell_type": "code",
   "execution_count": 92,
   "metadata": {},
   "outputs": [
    {
     "data": {
      "text/plain": [
       "(150, 5)"
      ]
     },
     "execution_count": 92,
     "metadata": {},
     "output_type": "execute_result"
    }
   ],
   "source": [
    "df.shape"
   ]
  },
  {
   "cell_type": "code",
   "execution_count": 85,
   "metadata": {},
   "outputs": [],
   "source": [
    "from sklearn.model_selection import train_test_split\n",
    "# from sklearn.preprocessing import LabelEncoder"
   ]
  },
  {
   "cell_type": "code",
   "execution_count": 86,
   "metadata": {},
   "outputs": [],
   "source": [
    "# le = LabelEncoder()"
   ]
  },
  {
   "cell_type": "code",
   "execution_count": 87,
   "metadata": {},
   "outputs": [],
   "source": [
    "# label = le.fit_transform(label)"
   ]
  },
  {
   "cell_type": "code",
   "execution_count": 93,
   "metadata": {},
   "outputs": [
    {
     "data": {
      "text/plain": [
       "array([0, 0, 0, 0, 0, 0, 0, 0, 0, 0, 0, 0, 0, 0, 0, 0, 0, 0, 0, 0, 0, 0,\n",
       "       0, 0, 0, 0, 0, 0, 0, 0, 0, 0, 0, 0, 0, 0, 0, 0, 0, 0, 0, 0, 0, 0,\n",
       "       0, 0, 0, 0, 0, 0, 1, 1, 1, 1, 1, 1, 1, 1, 1, 1, 1, 1, 1, 1, 1, 1,\n",
       "       1, 1, 1, 1, 1, 1, 1, 1, 1, 1, 1, 1, 1, 1, 1, 1, 1, 1, 1, 1, 1, 1,\n",
       "       1, 1, 1, 1, 1, 1, 1, 1, 1, 1, 1, 1, 2, 2, 2, 2, 2, 2, 2, 2, 2, 2,\n",
       "       2, 2, 2, 2, 2, 2, 2, 2, 2, 2, 2, 2, 2, 2, 2, 2, 2, 2, 2, 2, 2, 2,\n",
       "       2, 2, 2, 2, 2, 2, 2, 2, 2, 2, 2, 2, 2, 2, 2, 2, 2, 2], dtype=int64)"
      ]
     },
     "execution_count": 93,
     "metadata": {},
     "output_type": "execute_result"
    }
   ],
   "source": [
    "label"
   ]
  },
  {
   "cell_type": "code",
   "execution_count": 95,
   "metadata": {},
   "outputs": [],
   "source": [
    "feature = df.drop('target', axis=1).values\n",
    "label = df['target'].values"
   ]
  },
  {
   "cell_type": "code",
   "execution_count": 96,
   "metadata": {},
   "outputs": [
    {
     "data": {
      "text/plain": [
       "array([0, 0, 0, 0, 0, 0, 0, 0, 0, 0, 0, 0, 0, 0, 0, 0, 0, 0, 0, 0, 0, 0,\n",
       "       0, 0, 0, 0, 0, 0, 0, 0, 0, 0, 0, 0, 0, 0, 0, 0, 0, 0, 0, 0, 0, 0,\n",
       "       0, 0, 0, 0, 0, 0, 1, 1, 1, 1, 1, 1, 1, 1, 1, 1, 1, 1, 1, 1, 1, 1,\n",
       "       1, 1, 1, 1, 1, 1, 1, 1, 1, 1, 1, 1, 1, 1, 1, 1, 1, 1, 1, 1, 1, 1,\n",
       "       1, 1, 1, 1, 1, 1, 1, 1, 1, 1, 1, 1, 2, 2, 2, 2, 2, 2, 2, 2, 2, 2,\n",
       "       2, 2, 2, 2, 2, 2, 2, 2, 2, 2, 2, 2, 2, 2, 2, 2, 2, 2, 2, 2, 2, 2,\n",
       "       2, 2, 2, 2, 2, 2, 2, 2, 2, 2, 2, 2, 2, 2, 2, 2, 2, 2], dtype=int64)"
      ]
     },
     "execution_count": 96,
     "metadata": {},
     "output_type": "execute_result"
    }
   ],
   "source": [
    "label"
   ]
  },
  {
   "cell_type": "code",
   "execution_count": 97,
   "metadata": {},
   "outputs": [],
   "source": [
    "X_train, X_test, y_train, y_test = train_test_split(feature, label, test_size=0.2, random_state=33)"
   ]
  },
  {
   "cell_type": "code",
   "execution_count": 19,
   "metadata": {},
   "outputs": [],
   "source": [
    "# convert to tensors"
   ]
  },
  {
   "cell_type": "code",
   "execution_count": 99,
   "metadata": {},
   "outputs": [],
   "source": [
    "X_train = torch.FloatTensor(X_train)\n",
    "X_test = torch.FloatTensor(X_test)"
   ]
  },
  {
   "cell_type": "code",
   "execution_count": 100,
   "metadata": {},
   "outputs": [],
   "source": [
    "y_train = torch.LongTensor(y_train).reshape(-1, 1)\n",
    "y_test = torch.LongTensor(y_test).reshape(-1, 1)"
   ]
  },
  {
   "cell_type": "code",
   "execution_count": null,
   "metadata": {},
   "outputs": [],
   "source": []
  },
  {
   "cell_type": "code",
   "execution_count": 101,
   "metadata": {},
   "outputs": [],
   "source": [
    "# Second way\n",
    "from torch.utils.data import TensorDataset, DataLoader"
   ]
  },
  {
   "cell_type": "code",
   "execution_count": 103,
   "metadata": {},
   "outputs": [],
   "source": [
    "data = df.drop('target', axis=1).values"
   ]
  },
  {
   "cell_type": "raw",
   "metadata": {},
   "source": []
  },
  {
   "cell_type": "code",
   "execution_count": 104,
   "metadata": {},
   "outputs": [],
   "source": [
    "# for train_test_split\n",
    "iris = TensorDataset(torch.FloatTensor(data), torch.LongTensor(label))"
   ]
  },
  {
   "cell_type": "code",
   "execution_count": 105,
   "metadata": {},
   "outputs": [
    {
     "data": {
      "text/plain": [
       "150"
      ]
     },
     "execution_count": 105,
     "metadata": {},
     "output_type": "execute_result"
    }
   ],
   "source": [
    "len(iris)"
   ]
  },
  {
   "cell_type": "code",
   "execution_count": 52,
   "metadata": {},
   "outputs": [],
   "source": [
    "# for i in iris:\n",
    "#     print(i)"
   ]
  },
  {
   "cell_type": "code",
   "execution_count": 53,
   "metadata": {},
   "outputs": [],
   "source": [
    "# Dataloader for shuffling"
   ]
  },
  {
   "cell_type": "code",
   "execution_count": 106,
   "metadata": {},
   "outputs": [],
   "source": [
    "iris_loader = DataLoader(iris, batch_size=50, shuffle=True)\n",
    "# gonna make 3 batches\n",
    "# 150/3 = 50"
   ]
  },
  {
   "cell_type": "code",
   "execution_count": 107,
   "metadata": {},
   "outputs": [
    {
     "data": {
      "text/plain": [
       "<torch.utils.data.dataloader.DataLoader at 0x23238323a88>"
      ]
     },
     "execution_count": 107,
     "metadata": {},
     "output_type": "execute_result"
    }
   ],
   "source": [
    "iris_loader"
   ]
  },
  {
   "cell_type": "code",
   "execution_count": 108,
   "metadata": {},
   "outputs": [
    {
     "name": "stdout",
     "output_type": "stream",
     "text": [
      "0 [tensor([[7.6000, 3.0000, 6.6000, 2.1000],\n",
      "        [7.7000, 2.6000, 6.9000, 2.3000],\n",
      "        [6.5000, 3.0000, 5.5000, 1.8000],\n",
      "        [5.6000, 3.0000, 4.5000, 1.5000],\n",
      "        [5.9000, 3.2000, 4.8000, 1.8000],\n",
      "        [4.5000, 2.3000, 1.3000, 0.3000],\n",
      "        [5.0000, 3.0000, 1.6000, 0.2000],\n",
      "        [5.4000, 3.4000, 1.5000, 0.4000],\n",
      "        [6.0000, 3.4000, 4.5000, 1.6000],\n",
      "        [4.3000, 3.0000, 1.1000, 0.1000],\n",
      "        [5.2000, 3.4000, 1.4000, 0.2000],\n",
      "        [5.8000, 4.0000, 1.2000, 0.2000],\n",
      "        [5.8000, 2.7000, 5.1000, 1.9000],\n",
      "        [5.5000, 2.5000, 4.0000, 1.3000],\n",
      "        [6.0000, 2.9000, 4.5000, 1.5000],\n",
      "        [4.4000, 3.0000, 1.3000, 0.2000],\n",
      "        [5.1000, 3.7000, 1.5000, 0.4000],\n",
      "        [5.6000, 2.9000, 3.6000, 1.3000],\n",
      "        [6.4000, 2.9000, 4.3000, 1.3000],\n",
      "        [6.4000, 2.7000, 5.3000, 1.9000],\n",
      "        [6.2000, 2.9000, 4.3000, 1.3000],\n",
      "        [4.9000, 3.1000, 1.5000, 0.1000],\n",
      "        [5.5000, 2.4000, 3.7000, 1.0000],\n",
      "        [6.1000, 2.6000, 5.6000, 1.4000],\n",
      "        [5.1000, 3.8000, 1.9000, 0.4000],\n",
      "        [4.8000, 3.4000, 1.9000, 0.2000],\n",
      "        [6.8000, 3.2000, 5.9000, 2.3000],\n",
      "        [6.3000, 2.5000, 4.9000, 1.5000],\n",
      "        [6.8000, 3.0000, 5.5000, 2.1000],\n",
      "        [4.8000, 3.0000, 1.4000, 0.3000],\n",
      "        [6.3000, 3.3000, 6.0000, 2.5000],\n",
      "        [4.6000, 3.2000, 1.4000, 0.2000],\n",
      "        [5.6000, 2.5000, 3.9000, 1.1000],\n",
      "        [6.4000, 3.1000, 5.5000, 1.8000],\n",
      "        [6.3000, 3.3000, 4.7000, 1.6000],\n",
      "        [6.5000, 3.0000, 5.2000, 2.0000],\n",
      "        [5.8000, 2.7000, 4.1000, 1.0000],\n",
      "        [5.8000, 2.6000, 4.0000, 1.2000],\n",
      "        [5.1000, 3.3000, 1.7000, 0.5000],\n",
      "        [5.0000, 3.2000, 1.2000, 0.2000],\n",
      "        [6.1000, 3.0000, 4.6000, 1.4000],\n",
      "        [5.6000, 2.7000, 4.2000, 1.3000],\n",
      "        [4.8000, 3.0000, 1.4000, 0.1000],\n",
      "        [5.0000, 3.5000, 1.3000, 0.3000],\n",
      "        [5.8000, 2.7000, 3.9000, 1.2000],\n",
      "        [5.7000, 2.5000, 5.0000, 2.0000],\n",
      "        [6.9000, 3.1000, 5.4000, 2.1000],\n",
      "        [6.9000, 3.1000, 4.9000, 1.5000],\n",
      "        [5.1000, 3.8000, 1.5000, 0.3000],\n",
      "        [5.5000, 2.3000, 4.0000, 1.3000]]), tensor([2, 2, 2, 1, 1, 0, 0, 0, 1, 0, 0, 0, 2, 1, 1, 0, 0, 1, 1, 2, 1, 0, 1, 2,\n",
      "        0, 0, 2, 1, 2, 0, 2, 0, 1, 2, 1, 2, 1, 1, 0, 0, 1, 1, 0, 0, 1, 2, 2, 1,\n",
      "        0, 1])]\n",
      "1 [tensor([[6.4000, 2.8000, 5.6000, 2.1000],\n",
      "        [6.5000, 3.2000, 5.1000, 2.0000],\n",
      "        [6.4000, 3.2000, 4.5000, 1.5000],\n",
      "        [4.4000, 3.2000, 1.3000, 0.2000],\n",
      "        [5.7000, 3.8000, 1.7000, 0.3000],\n",
      "        [7.2000, 3.6000, 6.1000, 2.5000],\n",
      "        [6.6000, 2.9000, 4.6000, 1.3000],\n",
      "        [5.2000, 2.7000, 3.9000, 1.4000],\n",
      "        [6.0000, 2.2000, 4.0000, 1.0000],\n",
      "        [6.7000, 3.1000, 5.6000, 2.4000],\n",
      "        [5.6000, 3.0000, 4.1000, 1.3000],\n",
      "        [5.8000, 2.8000, 5.1000, 2.4000],\n",
      "        [5.0000, 3.4000, 1.5000, 0.2000],\n",
      "        [5.7000, 2.8000, 4.5000, 1.3000],\n",
      "        [5.2000, 4.1000, 1.5000, 0.1000],\n",
      "        [6.5000, 2.8000, 4.6000, 1.5000],\n",
      "        [5.5000, 3.5000, 1.3000, 0.2000],\n",
      "        [5.7000, 2.9000, 4.2000, 1.3000],\n",
      "        [5.1000, 2.5000, 3.0000, 1.1000],\n",
      "        [5.7000, 3.0000, 4.2000, 1.2000],\n",
      "        [6.4000, 2.8000, 5.6000, 2.2000],\n",
      "        [5.5000, 2.6000, 4.4000, 1.2000],\n",
      "        [6.7000, 3.3000, 5.7000, 2.5000],\n",
      "        [6.7000, 3.0000, 5.0000, 1.7000],\n",
      "        [6.7000, 3.3000, 5.7000, 2.1000],\n",
      "        [6.3000, 2.7000, 4.9000, 1.8000],\n",
      "        [5.4000, 3.9000, 1.7000, 0.4000],\n",
      "        [5.1000, 3.5000, 1.4000, 0.2000],\n",
      "        [5.0000, 3.4000, 1.6000, 0.4000],\n",
      "        [4.6000, 3.4000, 1.4000, 0.3000],\n",
      "        [6.9000, 3.2000, 5.7000, 2.3000],\n",
      "        [4.7000, 3.2000, 1.6000, 0.2000],\n",
      "        [5.1000, 3.4000, 1.5000, 0.2000],\n",
      "        [6.7000, 3.0000, 5.2000, 2.3000],\n",
      "        [7.3000, 2.9000, 6.3000, 1.8000],\n",
      "        [6.7000, 2.5000, 5.8000, 1.8000],\n",
      "        [7.7000, 3.0000, 6.1000, 2.3000],\n",
      "        [5.5000, 2.4000, 3.8000, 1.1000],\n",
      "        [5.7000, 2.6000, 3.5000, 1.0000],\n",
      "        [6.2000, 2.8000, 4.8000, 1.8000],\n",
      "        [5.0000, 3.5000, 1.6000, 0.6000],\n",
      "        [4.4000, 2.9000, 1.4000, 0.2000],\n",
      "        [4.9000, 3.0000, 1.4000, 0.2000],\n",
      "        [5.3000, 3.7000, 1.5000, 0.2000],\n",
      "        [6.2000, 3.4000, 5.4000, 2.3000],\n",
      "        [5.9000, 3.0000, 4.2000, 1.5000],\n",
      "        [5.8000, 2.7000, 5.1000, 1.9000],\n",
      "        [6.7000, 3.1000, 4.4000, 1.4000],\n",
      "        [6.1000, 3.0000, 4.9000, 1.8000],\n",
      "        [5.4000, 3.4000, 1.7000, 0.2000]]), tensor([2, 2, 1, 0, 0, 2, 1, 1, 1, 2, 1, 2, 0, 1, 0, 1, 0, 1, 1, 1, 2, 1, 2, 1,\n",
      "        2, 2, 0, 0, 0, 0, 2, 0, 0, 2, 2, 2, 2, 1, 1, 2, 0, 0, 0, 0, 2, 1, 2, 1,\n",
      "        2, 0])]\n",
      "2 [tensor([[6.3000, 2.5000, 5.0000, 1.9000],\n",
      "        [5.6000, 2.8000, 4.9000, 2.0000],\n",
      "        [4.9000, 2.4000, 3.3000, 1.0000],\n",
      "        [5.4000, 3.9000, 1.3000, 0.4000],\n",
      "        [6.0000, 2.2000, 5.0000, 1.5000],\n",
      "        [5.0000, 2.3000, 3.3000, 1.0000],\n",
      "        [5.1000, 3.5000, 1.4000, 0.3000],\n",
      "        [4.8000, 3.1000, 1.6000, 0.2000],\n",
      "        [5.0000, 3.6000, 1.4000, 0.2000],\n",
      "        [5.5000, 4.2000, 1.4000, 0.2000],\n",
      "        [7.7000, 3.8000, 6.7000, 2.2000],\n",
      "        [6.9000, 3.1000, 5.1000, 2.3000],\n",
      "        [6.0000, 2.7000, 5.1000, 1.6000],\n",
      "        [5.4000, 3.7000, 1.5000, 0.2000],\n",
      "        [6.3000, 2.3000, 4.4000, 1.3000],\n",
      "        [5.9000, 3.0000, 5.1000, 1.8000],\n",
      "        [4.6000, 3.6000, 1.0000, 0.2000],\n",
      "        [7.2000, 3.0000, 5.8000, 1.6000],\n",
      "        [6.8000, 2.8000, 4.8000, 1.4000],\n",
      "        [4.9000, 3.1000, 1.5000, 0.1000],\n",
      "        [6.0000, 3.0000, 4.8000, 1.8000],\n",
      "        [4.8000, 3.4000, 1.6000, 0.2000],\n",
      "        [5.0000, 3.3000, 1.4000, 0.2000],\n",
      "        [7.0000, 3.2000, 4.7000, 1.4000],\n",
      "        [6.3000, 3.4000, 5.6000, 2.4000],\n",
      "        [4.9000, 2.5000, 4.5000, 1.7000],\n",
      "        [4.7000, 3.2000, 1.3000, 0.2000],\n",
      "        [6.1000, 2.8000, 4.0000, 1.3000],\n",
      "        [5.7000, 2.8000, 4.1000, 1.3000],\n",
      "        [7.9000, 3.8000, 6.4000, 2.0000],\n",
      "        [7.2000, 3.2000, 6.0000, 1.8000],\n",
      "        [4.6000, 3.1000, 1.5000, 0.2000],\n",
      "        [4.9000, 3.1000, 1.5000, 0.1000],\n",
      "        [6.3000, 2.9000, 5.6000, 1.8000],\n",
      "        [5.0000, 2.0000, 3.5000, 1.0000],\n",
      "        [6.6000, 3.0000, 4.4000, 1.4000],\n",
      "        [5.2000, 3.5000, 1.5000, 0.2000],\n",
      "        [6.4000, 3.2000, 5.3000, 2.3000],\n",
      "        [5.1000, 3.8000, 1.6000, 0.2000],\n",
      "        [6.1000, 2.8000, 4.7000, 1.2000],\n",
      "        [6.3000, 2.8000, 5.1000, 1.5000],\n",
      "        [7.4000, 2.8000, 6.1000, 1.9000],\n",
      "        [6.2000, 2.2000, 4.5000, 1.5000],\n",
      "        [7.7000, 2.8000, 6.7000, 2.0000],\n",
      "        [5.7000, 4.4000, 1.5000, 0.4000],\n",
      "        [6.7000, 3.1000, 4.7000, 1.5000],\n",
      "        [6.5000, 3.0000, 5.8000, 2.2000],\n",
      "        [5.4000, 3.0000, 4.5000, 1.5000],\n",
      "        [6.1000, 2.9000, 4.7000, 1.4000],\n",
      "        [7.1000, 3.0000, 5.9000, 2.1000]]), tensor([2, 2, 1, 0, 2, 1, 0, 0, 0, 0, 2, 2, 1, 0, 1, 2, 0, 2, 1, 0, 2, 0, 0, 1,\n",
      "        2, 2, 0, 1, 1, 2, 2, 0, 0, 2, 1, 1, 0, 2, 0, 1, 2, 2, 1, 2, 0, 1, 2, 1,\n",
      "        1, 2])]\n"
     ]
    }
   ],
   "source": [
    "for i_batch, smp_batch in enumerate(iris_loader):\n",
    "    print(i_batch, smp_batch)"
   ]
  },
  {
   "cell_type": "code",
   "execution_count": 59,
   "metadata": {},
   "outputs": [
    {
     "name": "stdout",
     "output_type": "stream",
     "text": [
      "[tensor([[5.8000, 2.8000, 5.1000, 2.4000],\n",
      "        [6.4000, 3.2000, 4.5000, 1.5000],\n",
      "        [6.2000, 3.4000, 5.4000, 2.3000],\n",
      "        [4.9000, 3.1000, 1.5000, 0.2000],\n",
      "        [4.9000, 3.1000, 1.5000, 0.1000],\n",
      "        [6.7000, 2.5000, 5.8000, 1.8000],\n",
      "        [5.7000, 4.4000, 1.5000, 0.4000],\n",
      "        [6.5000, 3.2000, 5.1000, 2.0000],\n",
      "        [6.9000, 3.2000, 5.7000, 2.3000],\n",
      "        [6.7000, 3.1000, 4.4000, 1.4000],\n",
      "        [5.5000, 2.5000, 4.0000, 1.3000],\n",
      "        [7.7000, 2.8000, 6.7000, 2.0000],\n",
      "        [5.0000, 3.6000, 1.4000, 0.2000],\n",
      "        [7.4000, 2.8000, 6.1000, 1.9000],\n",
      "        [6.1000, 2.8000, 4.0000, 1.3000],\n",
      "        [6.5000, 3.0000, 5.8000, 2.2000],\n",
      "        [5.1000, 3.8000, 1.6000, 0.2000],\n",
      "        [6.2000, 2.2000, 4.5000, 1.5000],\n",
      "        [5.8000, 2.6000, 4.0000, 1.2000],\n",
      "        [5.5000, 4.2000, 1.4000, 0.2000],\n",
      "        [6.3000, 2.5000, 4.9000, 1.5000],\n",
      "        [6.8000, 3.0000, 5.5000, 2.1000],\n",
      "        [5.0000, 3.4000, 1.5000, 0.2000],\n",
      "        [7.2000, 3.0000, 5.8000, 1.6000],\n",
      "        [5.4000, 3.0000, 4.5000, 1.5000],\n",
      "        [5.6000, 2.7000, 4.2000, 1.3000],\n",
      "        [6.3000, 3.4000, 5.6000, 2.4000],\n",
      "        [6.4000, 2.8000, 5.6000, 2.2000],\n",
      "        [5.7000, 2.5000, 5.0000, 2.0000],\n",
      "        [5.9000, 3.0000, 5.1000, 1.8000],\n",
      "        [5.3000, 3.7000, 1.5000, 0.2000],\n",
      "        [6.4000, 3.1000, 5.5000, 1.8000],\n",
      "        [6.3000, 2.7000, 4.9000, 1.8000],\n",
      "        [6.7000, 3.3000, 5.7000, 2.5000],\n",
      "        [5.5000, 2.4000, 3.8000, 1.1000],\n",
      "        [5.5000, 2.6000, 4.4000, 1.2000],\n",
      "        [6.3000, 3.3000, 4.7000, 1.6000],\n",
      "        [6.8000, 3.2000, 5.9000, 2.3000],\n",
      "        [7.1000, 3.0000, 5.9000, 2.1000],\n",
      "        [5.8000, 2.7000, 5.1000, 1.9000],\n",
      "        [5.1000, 3.8000, 1.9000, 0.4000],\n",
      "        [7.7000, 3.8000, 6.7000, 2.2000],\n",
      "        [5.4000, 3.4000, 1.7000, 0.2000],\n",
      "        [5.6000, 3.0000, 4.5000, 1.5000],\n",
      "        [6.1000, 2.9000, 4.7000, 1.4000],\n",
      "        [5.0000, 3.4000, 1.6000, 0.4000],\n",
      "        [6.4000, 3.2000, 5.3000, 2.3000],\n",
      "        [5.4000, 3.7000, 1.5000, 0.2000],\n",
      "        [5.6000, 2.5000, 3.9000, 1.1000],\n",
      "        [4.9000, 2.4000, 3.3000, 1.0000]]), tensor([2, 1, 2, 0, 0, 2, 0, 2, 2, 1, 1, 2, 0, 2, 1, 2, 0, 1, 1, 0, 1, 2, 0, 2,\n",
      "        1, 1, 2, 2, 2, 2, 0, 2, 2, 2, 1, 1, 1, 2, 2, 2, 0, 2, 0, 1, 1, 0, 2, 0,\n",
      "        1, 1])]\n",
      "[tensor([[6.1000, 2.8000, 4.7000, 1.2000],\n",
      "        [4.8000, 3.0000, 1.4000, 0.1000],\n",
      "        [5.6000, 2.9000, 3.6000, 1.3000],\n",
      "        [4.6000, 3.6000, 1.0000, 0.2000],\n",
      "        [6.7000, 3.0000, 5.2000, 2.3000],\n",
      "        [5.0000, 3.0000, 1.6000, 0.2000],\n",
      "        [5.7000, 2.8000, 4.5000, 1.3000],\n",
      "        [7.7000, 2.6000, 6.9000, 2.3000],\n",
      "        [6.7000, 3.1000, 4.7000, 1.5000],\n",
      "        [7.3000, 2.9000, 6.3000, 1.8000],\n",
      "        [7.6000, 3.0000, 6.6000, 2.1000],\n",
      "        [5.6000, 3.0000, 4.1000, 1.3000],\n",
      "        [5.2000, 2.7000, 3.9000, 1.4000],\n",
      "        [5.7000, 2.8000, 4.1000, 1.3000],\n",
      "        [6.0000, 2.2000, 4.0000, 1.0000],\n",
      "        [5.6000, 2.8000, 4.9000, 2.0000],\n",
      "        [6.9000, 3.1000, 4.9000, 1.5000],\n",
      "        [4.3000, 3.0000, 1.1000, 0.1000],\n",
      "        [4.9000, 3.0000, 1.4000, 0.2000],\n",
      "        [5.0000, 2.0000, 3.5000, 1.0000],\n",
      "        [7.7000, 3.0000, 6.1000, 2.3000],\n",
      "        [5.5000, 2.4000, 3.7000, 1.0000],\n",
      "        [5.2000, 3.4000, 1.4000, 0.2000],\n",
      "        [6.6000, 3.0000, 4.4000, 1.4000],\n",
      "        [6.3000, 3.3000, 6.0000, 2.5000],\n",
      "        [4.7000, 3.2000, 1.6000, 0.2000],\n",
      "        [6.4000, 2.8000, 5.6000, 2.1000],\n",
      "        [6.3000, 2.8000, 5.1000, 1.5000],\n",
      "        [5.8000, 2.7000, 5.1000, 1.9000],\n",
      "        [6.7000, 3.0000, 5.0000, 1.7000],\n",
      "        [6.7000, 3.3000, 5.7000, 2.1000],\n",
      "        [6.3000, 2.3000, 4.4000, 1.3000],\n",
      "        [6.2000, 2.9000, 4.3000, 1.3000],\n",
      "        [4.4000, 2.9000, 1.4000, 0.2000],\n",
      "        [4.9000, 2.5000, 4.5000, 1.7000],\n",
      "        [6.7000, 3.1000, 5.6000, 2.4000],\n",
      "        [5.1000, 2.5000, 3.0000, 1.1000],\n",
      "        [5.1000, 3.3000, 1.7000, 0.5000],\n",
      "        [6.3000, 2.9000, 5.6000, 1.8000],\n",
      "        [7.2000, 3.6000, 6.1000, 2.5000],\n",
      "        [5.8000, 4.0000, 1.2000, 0.2000],\n",
      "        [5.4000, 3.9000, 1.7000, 0.4000],\n",
      "        [5.0000, 3.2000, 1.2000, 0.2000],\n",
      "        [7.9000, 3.8000, 6.4000, 2.0000],\n",
      "        [7.2000, 3.2000, 6.0000, 1.8000],\n",
      "        [6.0000, 2.2000, 5.0000, 1.5000],\n",
      "        [5.9000, 3.2000, 4.8000, 1.8000],\n",
      "        [5.1000, 3.5000, 1.4000, 0.2000],\n",
      "        [4.4000, 3.0000, 1.3000, 0.2000],\n",
      "        [4.8000, 3.0000, 1.4000, 0.3000]]), tensor([1, 0, 1, 0, 2, 0, 1, 2, 1, 2, 2, 1, 1, 1, 1, 2, 1, 0, 0, 1, 2, 1, 0, 1,\n",
      "        2, 0, 2, 2, 2, 1, 2, 1, 1, 0, 2, 2, 1, 0, 2, 2, 0, 0, 0, 2, 2, 2, 1, 0,\n",
      "        0, 0])]\n",
      "[tensor([[6.9000, 3.1000, 5.4000, 2.1000],\n",
      "        [5.0000, 3.5000, 1.6000, 0.6000],\n",
      "        [4.6000, 3.2000, 1.4000, 0.2000],\n",
      "        [6.0000, 3.4000, 4.5000, 1.6000],\n",
      "        [4.4000, 3.2000, 1.3000, 0.2000],\n",
      "        [6.5000, 3.0000, 5.2000, 2.0000],\n",
      "        [5.1000, 3.7000, 1.5000, 0.4000],\n",
      "        [5.1000, 3.8000, 1.5000, 0.3000],\n",
      "        [6.1000, 2.6000, 5.6000, 1.4000],\n",
      "        [4.5000, 2.3000, 1.3000, 0.3000],\n",
      "        [6.2000, 2.8000, 4.8000, 1.8000],\n",
      "        [6.9000, 3.1000, 5.1000, 2.3000],\n",
      "        [4.9000, 3.6000, 1.4000, 0.1000],\n",
      "        [6.5000, 2.8000, 4.6000, 1.5000],\n",
      "        [4.8000, 3.4000, 1.9000, 0.2000],\n",
      "        [5.7000, 2.6000, 3.5000, 1.0000],\n",
      "        [4.6000, 3.1000, 1.5000, 0.2000],\n",
      "        [6.6000, 2.9000, 4.6000, 1.3000],\n",
      "        [6.1000, 3.0000, 4.9000, 1.8000],\n",
      "        [4.8000, 3.1000, 1.6000, 0.2000],\n",
      "        [5.8000, 2.7000, 3.9000, 1.2000],\n",
      "        [5.0000, 2.3000, 3.3000, 1.0000],\n",
      "        [6.4000, 2.7000, 5.3000, 1.9000],\n",
      "        [5.9000, 3.0000, 4.2000, 1.5000],\n",
      "        [5.1000, 3.5000, 1.4000, 0.3000],\n",
      "        [5.1000, 3.4000, 1.5000, 0.2000],\n",
      "        [6.0000, 3.0000, 4.8000, 1.8000],\n",
      "        [5.0000, 3.3000, 1.4000, 0.2000],\n",
      "        [4.6000, 3.4000, 1.4000, 0.3000],\n",
      "        [5.4000, 3.9000, 1.3000, 0.4000],\n",
      "        [6.1000, 3.0000, 4.6000, 1.4000],\n",
      "        [6.5000, 3.0000, 5.5000, 1.8000],\n",
      "        [5.8000, 2.7000, 4.1000, 1.0000],\n",
      "        [6.4000, 2.9000, 4.3000, 1.3000],\n",
      "        [6.3000, 2.5000, 5.0000, 1.9000],\n",
      "        [5.5000, 3.5000, 1.3000, 0.2000],\n",
      "        [7.0000, 3.2000, 4.7000, 1.4000],\n",
      "        [5.0000, 3.5000, 1.3000, 0.3000],\n",
      "        [5.2000, 3.5000, 1.5000, 0.2000],\n",
      "        [5.4000, 3.4000, 1.5000, 0.4000],\n",
      "        [4.8000, 3.4000, 1.6000, 0.2000],\n",
      "        [5.5000, 2.3000, 4.0000, 1.3000],\n",
      "        [6.0000, 2.9000, 4.5000, 1.5000],\n",
      "        [6.0000, 2.7000, 5.1000, 1.6000],\n",
      "        [6.8000, 2.8000, 4.8000, 1.4000],\n",
      "        [5.7000, 2.9000, 4.2000, 1.3000],\n",
      "        [5.7000, 3.0000, 4.2000, 1.2000],\n",
      "        [5.7000, 3.8000, 1.7000, 0.3000],\n",
      "        [4.7000, 3.2000, 1.3000, 0.2000],\n",
      "        [5.2000, 4.1000, 1.5000, 0.1000]]), tensor([2, 0, 0, 1, 0, 2, 0, 0, 2, 0, 2, 2, 0, 1, 0, 1, 0, 1, 2, 0, 1, 1, 2, 1,\n",
      "        0, 0, 2, 0, 0, 0, 1, 2, 1, 1, 2, 0, 1, 0, 0, 0, 0, 1, 1, 1, 1, 1, 1, 0,\n",
      "        0, 0])]\n"
     ]
    }
   ],
   "source": [
    "for i in iris_loader:\n",
    "    print(i)"
   ]
  },
  {
   "cell_type": "code",
   "execution_count": null,
   "metadata": {},
   "outputs": [],
   "source": []
  },
  {
   "cell_type": "code",
   "execution_count": null,
   "metadata": {},
   "outputs": [],
   "source": []
  },
  {
   "cell_type": "code",
   "execution_count": 109,
   "metadata": {},
   "outputs": [],
   "source": [
    "import torch\n",
    "import torch.nn as nn\n",
    "import torch.nn.functional as F"
   ]
  },
  {
   "cell_type": "code",
   "execution_count": 118,
   "metadata": {},
   "outputs": [],
   "source": [
    "# Model Class\n",
    "class Model(nn.Module):\n",
    "    def __init__(self, in_features=4, h1=8, h2=9, out_features=3):\n",
    "        # layers\n",
    "        # input(4 features) hidden(n) hidden(3) output(3 classes)\n",
    "        super().__init__()\n",
    "        self.fc1 = nn.Linear(in_features,h1)    # input layer\n",
    "        self.fc2 = nn.Linear(h1, h2)            # hidden layer\n",
    "        self.out = nn.Linear(h2, out_features)  # output layer\n",
    "        \n",
    "    def forward(self, x):\n",
    "        # forward propogation\n",
    "        x = F.relu(self.fc1(x))\n",
    "        x = F.relu(self.fc2(x))\n",
    "        x = self.out(x)\n",
    "        return x"
   ]
  },
  {
   "cell_type": "code",
   "execution_count": 119,
   "metadata": {},
   "outputs": [],
   "source": [
    "# Instantiate model\n",
    "torch.manual_seed(32) #prevent weight and bias randomization \n",
    "model = Model()"
   ]
  },
  {
   "cell_type": "code",
   "execution_count": 120,
   "metadata": {},
   "outputs": [],
   "source": [
    "# loss (error)\n",
    "# crossentropy for multiclass classification problem\n",
    "criterion = nn.CrossEntropyLoss()\n",
    "\n",
    "# feeding model layers and learning rate to optimizer\n",
    "optimizer = torch.optim.Adam(model.parameters(),lr=0.01)"
   ]
  },
  {
   "cell_type": "code",
   "execution_count": 122,
   "metadata": {},
   "outputs": [],
   "source": [
    "X = df.drop('target',axis=1).values\n",
    "y = df['target'].values"
   ]
  },
  {
   "cell_type": "code",
   "execution_count": 125,
   "metadata": {},
   "outputs": [],
   "source": [
    "X_train, X_test, y_train, y_test = train_test_split(X,y,test_size=0.2,random_state=33)\n",
    "\n",
    "X_train = torch.FloatTensor(X_train)\n",
    "X_test = torch.FloatTensor(X_test)\n",
    "\n",
    "y_train = torch.LongTensor(y_train)\n",
    "y_test = torch.LongTensor(y_test)"
   ]
  },
  {
   "cell_type": "code",
   "execution_count": 128,
   "metadata": {},
   "outputs": [],
   "source": [
    "trainloader = DataLoader(X_train, batch_size=60, shuffle=True)\n",
    "testloader = DataLoader(X_test, batch_size=60, shuffle=False)"
   ]
  },
  {
   "cell_type": "code",
   "execution_count": 129,
   "metadata": {},
   "outputs": [
    {
     "data": {
      "text/plain": [
       "<bound method Module.parameters of Model(\n",
       "  (fc1): Linear(in_features=4, out_features=8, bias=True)\n",
       "  (fc2): Linear(in_features=8, out_features=9, bias=True)\n",
       "  (out): Linear(in_features=9, out_features=3, bias=True)\n",
       ")>"
      ]
     },
     "execution_count": 129,
     "metadata": {},
     "output_type": "execute_result"
    }
   ],
   "source": [
    "model.parameters"
   ]
  },
  {
   "cell_type": "code",
   "execution_count": null,
   "metadata": {},
   "outputs": [],
   "source": []
  },
  {
   "cell_type": "code",
   "execution_count": 115,
   "metadata": {},
   "outputs": [],
   "source": [
    "epochs = 100\n",
    "losses = []"
   ]
  },
  {
   "cell_type": "code",
   "execution_count": null,
   "metadata": {},
   "outputs": [],
   "source": []
  },
  {
   "cell_type": "code",
   "execution_count": 130,
   "metadata": {},
   "outputs": [
    {
     "name": "stdout",
     "output_type": "stream",
     "text": [
      "epoch:  1  loss: 1.15071154\n",
      "epoch: 11  loss: 0.93773156\n",
      "epoch: 21  loss: 0.77982575\n",
      "epoch: 31  loss: 0.60994011\n",
      "epoch: 41  loss: 0.40079927\n",
      "epoch: 51  loss: 0.25436318\n",
      "epoch: 61  loss: 0.15053058\n",
      "epoch: 71  loss: 0.10086945\n",
      "epoch: 81  loss: 0.08128312\n",
      "epoch: 91  loss: 0.07231427\n"
     ]
    }
   ],
   "source": [
    "epochs = 100\n",
    "losses = []\n",
    "\n",
    "for i in range(epochs):\n",
    "    i+=1\n",
    "    y_pred = model.forward(X_train)\n",
    "    loss = criterion(y_pred, y_train)\n",
    "    losses.append(loss)\n",
    "    \n",
    "    # a neat trick to save screen space:\n",
    "    if i%10 == 1:\n",
    "        print(f'epoch: {i:2}  loss: {loss.item():10.8f}')\n",
    "\n",
    "    optimizer.zero_grad()\n",
    "    loss.backward()\n",
    "    optimizer.step()"
   ]
  },
  {
   "cell_type": "code",
   "execution_count": 134,
   "metadata": {},
   "outputs": [
    {
     "data": {
      "image/png": "[encoded data removed]",
      "text/plain": [
       "<Figure size 432x288 with 1 Axes>"
      ]
     },
     "metadata": {
      "needs_background": "light"
     },
     "output_type": "display_data"
    }
   ],
   "source": [
    "plt.plot(range(epochs), losses)\n",
    "plt.ylabel('Loss')\n",
    "plt.xlabel('epoch');"
   ]
  },
  {
   "cell_type": "code",
   "execution_count": 133,
   "metadata": {},
   "outputs": [],
   "source": []
  },
  {
   "cell_type": "code",
   "execution_count": null,
   "metadata": {},
   "outputs": [],
   "source": []
  }
 ],
 "metadata": {
  "kernelspec": {
   "display_name": "Python 3",
   "language": "python",
   "name": "python3"
  },
  "language_info": {
   "codemirror_mode": {
    "name": "ipython",
    "version": 3
   },
   "file_extension": ".py",
   "mimetype": "text/x-python",
   "name": "python",
   "nbconvert_exporter": "python",
   "pygments_lexer": "ipython3",
   "version": "3.7.7"
  }
 },
 "nbformat": 4,
 "nbformat_minor": 4
}
